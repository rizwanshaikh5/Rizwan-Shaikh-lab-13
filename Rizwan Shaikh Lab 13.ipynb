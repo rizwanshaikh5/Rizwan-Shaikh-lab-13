{
 "cells": [
  {
   "cell_type": "markdown",
   "metadata": {},
   "source": [
    "Program 1"
   ]
  },
  {
   "cell_type": "code",
   "execution_count": 1,
   "metadata": {
    "scrolled": true
   },
   "outputs": [
    {
     "name": "stdout",
     "output_type": "stream",
     "text": [
      "1: Choice()\n",
      "Choice function is used to generate number from a given list of numbers\n",
      "for example:\n",
      "from a given list, random number is :  5\n",
      "\n",
      "2: Randrange(beg, end, step)\n",
      "randrange function is used to generate value from a range\n",
      "for example:\n",
      "A random number from range is : 35\n",
      "\n",
      "3: Random()\n",
      "Random function is used to generate a random number between 2 digits 0 and 1\n",
      "for example:\n",
      "A random number between 0 and 1 is : 0.8340542362064973\n",
      "\n",
      "4: Seed()\n",
      "Seed function is used to seed a random number\n",
      "The mapped random number with 1 is : 0.13436424411240122\n",
      "\n",
      "5: Shuffle()\n",
      "Shuffle is used to shuffle the list\n",
      "for example:\n",
      "The original list is : 1 3 5 7 9 \n",
      "After shuffling the list : 7 3 9 5 1 \n",
      "\n",
      "6: Unifrom()\n",
      "Unifrom function is used to generate a float number from range\n",
      "for example:\n",
      "The random floating number between 4 and 5 is : 4.760962444912575\n"
     ]
    }
   ],
   "source": [
    "print('1: Choice()')\n",
    "print('Choice function is used to generate number from a given list of numbers')\n",
    "print('for example:')\n",
    "import random\n",
    "lst = [1,2,3,4,5,6]\n",
    "print('from a given list, random number is : ',random.choice(lst))\n",
    "print()\n",
    "print('2: Randrange(beg, end, step)')\n",
    "print('randrange function is used to generate value from a range')\n",
    "print('for example:')\n",
    "print('A random number from range is :',random.randrange(10, 40, 5))\n",
    "print()\n",
    "print('3: Random()')\n",
    "print('Random function is used to generate a random number between 2 digits 0 and 1')\n",
    "print('for example:')\n",
    "print('A random number between 0 and 1 is : ', end=\"\")\n",
    "print(random.random())\n",
    "print()\n",
    "print('4: Seed()')\n",
    "print('Seed function is used to seed a random number')\n",
    "random.seed(1)\n",
    "print('The mapped random number with 1 is : ',end=\"\")\n",
    "print(random.random())\n",
    "print()\n",
    "print('5: Shuffle()')\n",
    "print('Shuffle is used to shuffle the list')\n",
    "print('for example:')\n",
    "list_odd = [1,3,5,7,9]\n",
    "print('The original list is :' ,end=\" \")\n",
    "for i in range(0, len(list_odd)):\n",
    "    print(list_odd[i], end=\" \")\n",
    "print()\n",
    "random.shuffle(list_odd)\n",
    "print('After shuffling the list : ',end=\"\")\n",
    "for i in range(0, len(list_odd)):\n",
    "    print(list_odd[i], end=\" \")\n",
    "print()\n",
    "print()\n",
    "print('6: Unifrom()')\n",
    "print('Unifrom function is used to generate a float number from range')\n",
    "print('for example:')\n",
    "print('The random floating number between 4 and 5 is :',end=\" \")\n",
    "print(random.uniform(4,5))"
   ]
  },
  {
   "cell_type": "markdown",
   "metadata": {},
   "source": [
    "Program 2"
   ]
  },
  {
   "cell_type": "code",
   "execution_count": 2,
   "metadata": {},
   "outputs": [
    {
     "name": "stdout",
     "output_type": "stream",
     "text": [
      "you rolled 3 and 5\n",
      "total 8\n"
     ]
    }
   ],
   "source": [
    "import random\n",
    "\n",
    "die1 = random.randrange(6)\n",
    "die2 = random.randrange(6)\n",
    "\n",
    "total = die1 + die2\n",
    "\n",
    "print(\"you rolled {} and {}\".format(die1, die2) + \"\\ntotal {}\".format(total))"
   ]
  },
  {
   "cell_type": "markdown",
   "metadata": {},
   "source": [
    "Program 3"
   ]
  },
  {
   "cell_type": "code",
   "execution_count": 19,
   "metadata": {},
   "outputs": [
    {
     "name": "stdout",
     "output_type": "stream",
     "text": [
      "['My', 'Name', 'Is', 'Rizwan', 'Shaikh']\n",
      "['Shaikh']\n",
      "True\n",
      "False\n",
      "['My', 'Name', 'Is', 'Rizwan', 'Shaikh', 'My', 'Name', 'Is', 'Rizwan', 'Shaikh']\n",
      "False\n",
      "True\n",
      "Total Number of vowels in file: 7\n"
     ]
    }
   ],
   "source": [
    "import re\n",
    "vowels = 0\n",
    "infile = open('Rizwan.txt', 'r+')\n",
    "content = infile.read()\n",
    "words = content.split()\n",
    "print(words)\n",
    "\n",
    "for i in 'AEIOUaeiou':\n",
    "    for word in words:\n",
    "        vowels = len(re.findall(i, word)) + vowels\n",
    "        \n",
    "print(words[-1:])\n",
    "\n",
    "print('Rizwan' in words)\n",
    "\n",
    "print('Huzaifa' in words)\n",
    "\n",
    "print(words*2)\n",
    "\n",
    "print(words==1)\n",
    "\n",
    "print(words != 1)\n",
    "        \n",
    "print(\"Total Number of vowels in file:\", vowels)"
   ]
  },
  {
   "cell_type": "markdown",
   "metadata": {},
   "source": [
    "Program 4"
   ]
  },
  {
   "cell_type": "code",
   "execution_count": 27,
   "metadata": {},
   "outputs": [
    {
     "name": "stdout",
     "output_type": "stream",
     "text": [
      "['My', 'Name', 'Is', 'Rizwan', 'Shaikh']\n",
      "Total Number of vowels in file: 7\n"
     ]
    }
   ],
   "source": [
    "import re\n",
    "vowels = 0\n",
    "infile = open('Rizwan.txt', 'r+')\n",
    "content = infile.read()\n",
    "words = content.split()\n",
    "print(words)\n",
    "\n",
    "for i in 'AEIOUaeiou':\n",
    "    for word in words:\n",
    "        vowels = len(re.findall(i, word)) + vowels\n",
    "\n",
    "print(\"Total Number of vowels in file:\", vowels)"
   ]
  },
  {
   "cell_type": "markdown",
   "metadata": {},
   "source": [
    "Program 5"
   ]
  },
  {
   "cell_type": "code",
   "execution_count": 28,
   "metadata": {},
   "outputs": [
    {
     "name": "stdout",
     "output_type": "stream",
     "text": [
      "my name is:  Rizwan\n",
      "15\n"
     ]
    }
   ],
   "source": [
    "def function1():\n",
    "    global name\n",
    "    name = \"Rizwan\"\n",
    "    return\n",
    "function1()\n",
    "\n",
    "def function2():\n",
    "    print(\"my name is: \",name)\n",
    "    return\n",
    "function2()\n",
    "\n",
    "# calling local varialble in other function\n",
    "def function3():\n",
    "    a = 10\n",
    "    b = 5\n",
    "    \n",
    "    def add():\n",
    "        add = a + b\n",
    "        print(add)\n",
    "        return\n",
    "    add()\n",
    "    return\n",
    "function3()\n"
   ]
  }
 ],
 "metadata": {
  "kernelspec": {
   "display_name": "Python 3",
   "language": "python",
   "name": "python3"
  },
  "language_info": {
   "codemirror_mode": {
    "name": "ipython",
    "version": 3
   },
   "file_extension": ".py",
   "mimetype": "text/x-python",
   "name": "python",
   "nbconvert_exporter": "python",
   "pygments_lexer": "ipython3",
   "version": "3.7.4"
  }
 },
 "nbformat": 4,
 "nbformat_minor": 2
}
