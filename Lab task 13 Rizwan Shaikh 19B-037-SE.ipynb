{
 "cells": [
  {
   "cell_type": "markdown",
   "metadata": {},
   "source": [
    "Exercise 1:"
   ]
  },
  {
   "cell_type": "code",
   "execution_count": 1,
   "metadata": {},
   "outputs": [
    {
     "name": "stdout",
     "output_type": "stream",
     "text": [
      "<re.Match object; span=(0, 116), match='Some analysts say a Buffett-less Berkshire Hathaw>\n"
     ]
    }
   ],
   "source": [
    "import re\n",
    "txt = 'Some analysts say a Buffett-less Berkshire Hathaway could be a candidate for being broken up into multiple companies'\n",
    "x = re.search(\"^Some.*companies$\", txt)\n",
    "print(x)"
   ]
  },
  {
   "cell_type": "markdown",
   "metadata": {},
   "source": [
    "Exercise 2:"
   ]
  },
  {
   "cell_type": "code",
   "execution_count": 2,
   "metadata": {},
   "outputs": [
    {
     "name": "stdout",
     "output_type": "stream",
     "text": [
      "['ou']\n"
     ]
    }
   ],
   "source": [
    "import re\n",
    "str = 'Some analysts say a Buffett-less Berkshire Hathaway could be a candidate for being broken up into multiple companies'\n",
    "\n",
    "x = re.findall('ou', str)\n",
    "print(x)"
   ]
  },
  {
   "cell_type": "markdown",
   "metadata": {},
   "source": [
    "Exercise 3:"
   ]
  },
  {
   "cell_type": "code",
   "execution_count": 3,
   "metadata": {},
   "outputs": [
    {
     "name": "stdout",
     "output_type": "stream",
     "text": [
      "[]\n"
     ]
    }
   ],
   "source": [
    "import re\n",
    "str = 'Some analysts say a Buffett-less Berkshire Hathaway could be a candidate for being broken up into multiple companies'\n",
    "\n",
    "x = re.findall('in to', str)\n",
    "print(x)"
   ]
  },
  {
   "cell_type": "markdown",
   "metadata": {},
   "source": [
    "Exercise 4:"
   ]
  },
  {
   "cell_type": "code",
   "execution_count": 4,
   "metadata": {},
   "outputs": [
    {
     "name": "stdout",
     "output_type": "stream",
     "text": [
      "The first white-space character is located in the position: 4\n"
     ]
    }
   ],
   "source": [
    "import re\n",
    "str = 'Some analysts say a Buffett-less Berkshire Hathaway could be a candidate for being broken up into multiple companies'\n",
    "\n",
    "x = re.search('\\s', str)\n",
    "print(\"The first white-space character is located in the position:\" , x.start())"
   ]
  },
  {
   "cell_type": "markdown",
   "metadata": {},
   "source": [
    "Exercise 5:"
   ]
  },
  {
   "cell_type": "code",
   "execution_count": 5,
   "metadata": {},
   "outputs": [
    {
     "name": "stdout",
     "output_type": "stream",
     "text": [
      "['Buffet,', 'who', 'is', 'worth', 'almost', '$90', 'billion,', 'still', 'lives', 'in', 'a', 'relatively', 'modest', 'house', 'about', '10', 'minutes', 'outside', 'downtown', 'Omaha', 'that', 'he', 'bought', 'in', '1958.']\n"
     ]
    }
   ],
   "source": [
    "import re\n",
    "str = 'Buffet, who is worth almost $90 billion, still lives in a relatively modest house about 10 minutes outside downtown Omaha that he bought in 1958.'\n",
    "\n",
    "x = re.split('\\s', str)\n",
    "print(x)"
   ]
  },
  {
   "cell_type": "markdown",
   "metadata": {},
   "source": [
    "Exercise 6:"
   ]
  },
  {
   "cell_type": "code",
   "execution_count": 6,
   "metadata": {},
   "outputs": [
    {
     "name": "stdout",
     "output_type": "stream",
     "text": [
      "Buffet,*who*is*worth*almost*$90*billion,*still*lives*in*a*relatively*modest*house*about*10*minutes*outside*downtown*Omaha*that*he*bought*in*1958.\n"
     ]
    }
   ],
   "source": [
    "import re\n",
    "str = 'Buffet, who is worth almost $90 billion, still lives in a relatively modest house about 10 minutes outside downtown Omaha that he bought in 1958.'\n",
    "\n",
    "x = re.sub('\\s', \"*\" , str)\n",
    "print(x)"
   ]
  },
  {
   "cell_type": "markdown",
   "metadata": {},
   "source": [
    "Exercise 7:"
   ]
  },
  {
   "cell_type": "code",
   "execution_count": 7,
   "metadata": {},
   "outputs": [
    {
     "name": "stdout",
     "output_type": "stream",
     "text": [
      "Buffet,*who*is*worth*almost $90 billion, still lives in a relatively modest house about 10 minutes outside downtown Omaha that he bought in 1958.\n"
     ]
    }
   ],
   "source": [
    "import re\n",
    "str = 'Buffet, who is worth almost $90 billion, still lives in a relatively modest house about 10 minutes outside downtown Omaha that he bought in 1958.'\n",
    "\n",
    "x = re.sub('\\s', \"*\" , str, 4)\n",
    "print(x)"
   ]
  },
  {
   "cell_type": "markdown",
   "metadata": {},
   "source": [
    "Exercise 8:"
   ]
  },
  {
   "cell_type": "code",
   "execution_count": 8,
   "metadata": {},
   "outputs": [
    {
     "name": "stdout",
     "output_type": "stream",
     "text": [
      "A random number from list is : 5\n",
      "A random number from range is : 20\n",
      "A random number between 0 and 1 is : 0.6396350882725711\n",
      "The mapped random number with 4 is : 0.7871744584491254\n",
      "The list before shuffling is : 19573\r\n",
      "The list after shuffling is : 37591\r\n",
      "The random floating point number between 5 and 10 is : 9.80233361359865\n"
     ]
    }
   ],
   "source": [
    "import random\n",
    "#using choice\n",
    "print('A random number from list is : ', end='')\n",
    "print(random.choice([1,3,5,7,9]))\n",
    "#using randrange\n",
    "print('A random number from range is : ', end='')\n",
    "print(random.randrange(10, 40, 5))\n",
    "#using random\n",
    "print('A random number between 0 and 1 is : ', end='')\n",
    "print(random.random())\n",
    "#using seed\n",
    "print('The mapped random number with 4 is : ', end='')\n",
    "print(random.random())\n",
    "\n",
    "lst_odd = [1,9,5,7,3]\n",
    "print('The list before shuffling is : ', end='')\n",
    "for i in range(0, len(lst_odd)):\n",
    "    print(lst_odd[i], end='')\n",
    "print('\\r')\n",
    "\n",
    "#using shuffle\n",
    "random.shuffle(lst_odd)\n",
    "print('The list after shuffling is : ', end='')\n",
    "for i in range(0, len(lst_odd)):\n",
    "    print(lst_odd[i], end='')\n",
    "print('\\r')\n",
    "\n",
    "#using uniform\n",
    "print('The random floating point number between 5 and 10 is : ', end='')\n",
    "print(random.uniform(5,10))"
   ]
  },
  {
   "cell_type": "markdown",
   "metadata": {},
   "source": [
    "Exercise 9:"
   ]
  },
  {
   "cell_type": "code",
   "execution_count": 9,
   "metadata": {},
   "outputs": [],
   "source": [
    "#uit_1 is in the global namespace\n",
    "uit_1 = 5\n",
    "def some_func():\n",
    "    \n",
    "    #cs_2 is in the local namespace\n",
    "    cs2 = 6\n",
    "    def some_inner_func():\n",
    "        #var3 is in the nested local\n",
    "        #namespace\n",
    "        se_3 = 7"
   ]
  },
  {
   "cell_type": "markdown",
   "metadata": {},
   "source": [
    "Exercise 10:"
   ]
  },
  {
   "cell_type": "code",
   "execution_count": 10,
   "metadata": {},
   "outputs": [
    {
     "name": "stdout",
     "output_type": "stream",
     "text": [
      "6\n"
     ]
    }
   ],
   "source": [
    "count = 5\n",
    "def some_method():\n",
    "    global count\n",
    "    count = count+1\n",
    "    print(count)\n",
    "some_method()"
   ]
  }
 ],
 "metadata": {
  "kernelspec": {
   "display_name": "Python 3",
   "language": "python",
   "name": "python3"
  },
  "language_info": {
   "codemirror_mode": {
    "name": "ipython",
    "version": 3
   },
   "file_extension": ".py",
   "mimetype": "text/x-python",
   "name": "python",
   "nbconvert_exporter": "python",
   "pygments_lexer": "ipython3",
   "version": "3.7.4"
  }
 },
 "nbformat": 4,
 "nbformat_minor": 2
}
